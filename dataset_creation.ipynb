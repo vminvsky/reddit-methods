{
 "cells": [
  {
   "cell_type": "code",
   "execution_count": 1,
   "metadata": {},
   "outputs": [],
   "source": [
    "import pandas as pd\n",
    "import numpy as np \n",
    "\n",
    "from pyspark.sql import SparkSession\n",
    "from pyspark import SparkContext\n",
    "\n",
    "from pyspark.ml.feature import Tokenizer, StopWordsRemover, RegexTokenizer\n",
    "\n",
    "from sklearn.feature_extraction.text import CountVectorizer\n",
    "import os\n",
    "os.getcwd()\n",
    "# choose a year you want to analyze\n",
    "year = str(2019)"
   ]
  },
  {
   "cell_type": "code",
   "execution_count": 2,
   "metadata": {},
   "outputs": [],
   "source": [
    "import pandas as pd\n",
    "import io\n",
    "import requests\n",
    "url=\"https://raw.githubusercontent.com/stefangabos/world_countries/master/data/en/countries.csv\"\n",
    "s=requests.get(url).content\n",
    "c=pd.read_csv(io.StringIO(s.decode('utf-8')))"
   ]
  },
  {
   "cell_type": "code",
   "execution_count": 3,
   "metadata": {},
   "outputs": [],
   "source": [
    "companies = c\n",
    "companies['Company'] = companies['name']\n",
    "companies = companies[['name','alpha2','Company']]"
   ]
  },
  {
   "cell_type": "code",
   "execution_count": 48,
   "metadata": {},
   "outputs": [
    {
     "data": {
      "text/plain": [
       "'/h/224/venia/reddit_methods'"
      ]
     },
     "execution_count": 48,
     "metadata": {},
     "output_type": "execute_result"
    }
   ],
   "source": []
  },
  {
   "cell_type": "code",
   "execution_count": 2,
   "metadata": {},
   "outputs": [],
   "source": []
  },
  {
   "cell_type": "code",
   "execution_count": 4,
   "metadata": {},
   "outputs": [],
   "source": [
    "companies = pd.read_csv(\"fortune1000.csv\")\n",
    "companies = companies[companies['Ambiguous'].isna()]\n",
    "companies = companies.fillna('')"
   ]
  },
  {
   "cell_type": "code",
   "execution_count": 4,
   "metadata": {},
   "outputs": [],
   "source": [
    "companies=companies.head(100)"
   ]
  },
  {
   "cell_type": "code",
   "execution_count": 6,
   "metadata": {},
   "outputs": [],
   "source": [
    "vals = companies['Company'].head(100).values\n",
    "string = \"\"\n",
    "for i, val in enumerate(vals):\n",
    "    if i != len(vals)-1:\n",
    "        string = string + 'body LIKE \"% {}%\" OR '.format(val)\n",
    "    else: \n",
    "        string = string + 'body LIKE \"% {}%\"'.format(val)"
   ]
  },
  {
   "cell_type": "code",
   "execution_count": 8,
   "metadata": {},
   "outputs": [
    {
     "data": {
      "text/plain": [
       "'body LIKE \"% Walmart%\" OR body LIKE \"% Exxon Mobil%\" OR body LIKE \"% Berkshire Hathaway%\" OR body LIKE \"% McKesson%\" OR body LIKE \"% UnitedHealth Group%\" OR body LIKE \"% CVS Health%\" OR body LIKE \"% General Motors%\" OR body LIKE \"% Ford Motor%\" OR body LIKE \"% AT&T%\" OR body LIKE \"% General Electric%\" OR body LIKE \"% AmerisourceBergen%\" OR body LIKE \"% Verizon%\" OR body LIKE \"% Chevron%\" OR body LIKE \"% Costco%\" OR body LIKE \"% Fannie Mae%\" OR body LIKE \"% Kroger%\" OR body LIKE \"% Walgreens Boots Alliance%\" OR body LIKE \"% Cardinal Health%\" OR body LIKE \"% Express Scripts Holding%\" OR body LIKE \"% J.P. Morgan Chase%\" OR body LIKE \"% Boeing%\" OR body LIKE \"% Microsoft%\" OR body LIKE \"% Bank of America Corp.%\" OR body LIKE \"% Wells Fargo%\" OR body LIKE \"% Home Depot%\" OR body LIKE \"% Citigroup%\" OR body LIKE \"% Phillips 66%\" OR body LIKE \"% IBM%\" OR body LIKE \"% Valero Energy%\" OR body LIKE \"% Procter & Gamble%\" OR body LIKE \"% State Farm Insurance Cos.%\" OR body LIKE \"% Alphabet%\" OR body LIKE \"% Comcast%\" OR body LIKE \"% Johnson & Johnson%\" OR body LIKE \"% MetLife%\" OR body LIKE \"% Archer Daniels Midland%\" OR body LIKE \"% Marathon Petroleum%\" OR body LIKE \"% Freddie Mac%\" OR body LIKE \"% PepsiCo%\" OR body LIKE \"% United Technologies%\" OR body LIKE \"% Aetna%\" OR body LIKE \"% Lowe\\'s%\" OR body LIKE \"% UPS%\" OR body LIKE \"% Prudential Financial%\" OR body LIKE \"% Intel%\" OR body LIKE \"% Humana%\" OR body LIKE \"% Disney%\" OR body LIKE \"% Cisco Systems%\" OR body LIKE \"% Pfizer%\" OR body LIKE \"% Dow Chemical%\" OR body LIKE \"% Sysco%\" OR body LIKE \"% FedEx%\" OR body LIKE \"% Caterpillar%\" OR body LIKE \"% Lockheed Martin%\" OR body LIKE \"% New York Life Insurance%\" OR body LIKE \"% Coca-Cola%\" OR body LIKE \"% HCA Holdings%\" OR body LIKE \"% Ingram Micro%\" OR body LIKE \"% Energy Transfer Equity%\" OR body LIKE \"% Tyson Foods%\" OR body LIKE \"% American Airlines Group%\" OR body LIKE \"% Delta Air Lines%\" OR body LIKE \"% Nationwide%\" OR body LIKE \"% Johnson Controls%\" OR body LIKE \"% Best Buy%\" OR body LIKE \"% Merck%\" OR body LIKE \"% Liberty Mutual Insurance Group%\" OR body LIKE \"% Goldman Sachs Group%\" OR body LIKE \"% Honeywell International%\" OR body LIKE \"% Oracle%\" OR body LIKE \"% Morgan Stanley%\" OR body LIKE \"% Cigna%\" OR body LIKE \"% United Continental Holdings%\" OR body LIKE \"% Allstate%\" OR body LIKE \"% TIAA%\" OR body LIKE \"% INTL FCStone%\" OR body LIKE \"% CHS%\" OR body LIKE \"% American Express%\" OR body LIKE \"% Gilead Sciences%\" OR body LIKE \"% Publix Super Markets%\" OR body LIKE \"% General Dynamics%\" OR body LIKE \"% TJX%\" OR body LIKE \"% ConocoPhillips%\" OR body LIKE \"% Nike%\" OR body LIKE \"% World Fuel Services%\" OR body LIKE \"% 3M%\" OR body LIKE \"% Mondelez International%\" OR body LIKE \"% Exelon%\" OR body LIKE \"% Twenty-First Century Fox%\" OR body LIKE \"% Deere%\" OR body LIKE \"% Tesoro%\" OR body LIKE \"% Time Warner%\" OR body LIKE \"% Northwestern Mutual%\" OR body LIKE \"% DuPont%\" OR body LIKE \"% Avnet%\" OR body LIKE \"% Macy\\'s%\" OR body LIKE \"% Enterprise Products Partners%\" OR body LIKE \"% Travelers Cos.%\" OR body LIKE \"% Philip Morris International%\" OR body LIKE \"% Rite Aid%\"'"
      ]
     },
     "execution_count": 8,
     "metadata": {},
     "output_type": "execute_result"
    }
   ],
   "source": [
    "string"
   ]
  },
  {
   "cell_type": "code",
   "execution_count": null,
   "metadata": {},
   "outputs": [],
   "source": [
    "companies_spark = spark.createDataFrame(companies)\n",
    "companies_spark.createOrReplaceTempView(\"companies\")"
   ]
  },
  {
   "cell_type": "code",
   "execution_count": 2,
   "metadata": {},
   "outputs": [],
   "source": [
    "spark = SparkSession.builder.config(\"spark.driver.memory\", \"300g\").config(\"spark.driver.maxResultSize\", '300g').config(\"spark.executor.memory\", \"300g\").config('spark.sql.autoBroadcastJoinThreshold', '-1').getOrCreate()\n",
    "\n",
    "# spark = SparkSession.builder.config(\"spark.driver.memory\", \"150g\").config(\"spark.driver.maxResultSize\", '0').config(\"spark.executor.memory\", \"150g\").config('spark.sql.autoBroadcastJoinThreshold', '-1').getOrCreate()\n",
    "# df = spark.read.load(\"/comments_2019.parquet\")\n",
    "df = spark.read.load(\"/ada/data/reddit/parquet/comments_{}.parquet\".format(year))\n",
    "df.createOrReplaceTempView(\"comments\")\n",
    "\n",
    "comments_sample = spark.sql(\"\"\"\n",
    "    select * from comments WHERE body like '%https://www.%' LIMIT 10000000\n",
    "\"\"\")\n"
   ]
  },
  {
   "cell_type": "code",
   "execution_count": null,
   "metadata": {},
   "outputs": [],
   "source": []
  },
  {
   "cell_type": "code",
   "execution_count": null,
   "metadata": {},
   "outputs": [],
   "source": [
    "# from pyspark.sql.functions import udf, col \n",
    "# from pyspark.sql.types import BooleanType\n",
    "\n",
    "# # Of you can replace `in` with a regular expression\n",
    "# contains = udf(lambda s, q: q in s, BooleanType())\n",
    "\n",
    "# like_with_python_udf = (comments_sample.join(companies_spark)\n",
    "#     .where(contains(col(\"body\"), col(\"Company\")))\n",
    "#     .select(col(\"Company\"), col(\"id\"), col('subreddit'), col('created_utc'), col('link_id')))\n",
    "# like_with_python_udf.show()"
   ]
  },
  {
   "cell_type": "code",
   "execution_count": 19,
   "metadata": {},
   "outputs": [],
   "source": [
    "# yeet = comments_sample.toPandas()"
   ]
  },
  {
   "cell_type": "code",
   "execution_count": 4,
   "metadata": {},
   "outputs": [],
   "source": [
    "comments_sample.write.parquet(\"data/urls_comments_full.parquet\")"
   ]
  },
  {
   "cell_type": "code",
   "execution_count": 5,
   "metadata": {},
   "outputs": [],
   "source": [
    "comments_sample = spark.read.load(\"data/urls_comments_full.parquet\")\n",
    "data = comments_sample.toPandas()"
   ]
  },
  {
   "cell_type": "code",
   "execution_count": null,
   "metadata": {},
   "outputs": [],
   "source": []
  },
  {
   "cell_type": "code",
   "execution_count": 7,
   "metadata": {},
   "outputs": [],
   "source": [
    "data['url'] = data['body'].str.extract(r\"\\b((?:https?://)?(?:(?:www\\.)?(?:[\\da-z\\.-]+)\\.(?:[a-z]{2,6})|(?:(?:25[0-5]|2[0-4][0-9]|[01]?[0-9][0-9]?)\\.){3}(?:25[0-5]|2[0-4][0-9]|[01]?[0-9][0-9]?)|(?:(?:[0-9a-fA-F]{1,4}:){7,7}[0-9a-fA-F]{1,4}|(?:[0-9a-fA-F]{1,4}:){1,7}:|(?:[0-9a-fA-F]{1,4}:){1,6}:[0-9a-fA-F]{1,4}|(?:[0-9a-fA-F]{1,4}:){1,5}(?::[0-9a-fA-F]{1,4}){1,2}|(?:[0-9a-fA-F]{1,4}:){1,4}(?::[0-9a-fA-F]{1,4}){1,3}|(?:[0-9a-fA-F]{1,4}:){1,3}(?::[0-9a-fA-F]{1,4}){1,4}|(?:[0-9a-fA-F]{1,4}:){1,2}(?::[0-9a-fA-F]{1,4}){1,5}|[0-9a-fA-F]{1,4}:(?:(?::[0-9a-fA-F]{1,4}){1,6})|:(?:(?::[0-9a-fA-F]{1,4}){1,7}|:)|fe80:(?::[0-9a-fA-F]{0,4}){0,4}%[0-9a-zA-Z]{1,}|::(?:ffff(?::0{1,4}){0,1}:){0,1}(?:(?:25[0-5]|(?:2[0-4]|1{0,1}[0-9]){0,1}[0-9])\\.){3,3}(?:25[0-5]|(?:2[0-4]|1{0,1}[0-9]){0,1}[0-9])|(?:[0-9a-fA-F]{1,4}:){1,4}:(?:(?:25[0-5]|(?:2[0-4]|1{0,1}[0-9]){0,1}[0-9])\\.){3,3}(?:25[0-5]|(?:2[0-4]|1{0,1}[0-9]){0,1}[0-9])))(?::[0-9]{1,4}|[1-5][0-9]{4}|6[0-4][0-9]{3}|65[0-4][0-9]{2}|655[0-2][0-9]|6553[0-5])?(?:/[\\w\\.-]*)*/?)\\b\")"
   ]
  },
  {
   "cell_type": "code",
   "execution_count": 8,
   "metadata": {},
   "outputs": [],
   "source": [
    "data['domain'] = data['url'].str.extract(\"www.([^\\s]+?\\.com)\")"
   ]
  },
  {
   "cell_type": "code",
   "execution_count": null,
   "metadata": {},
   "outputs": [],
   "source": []
  },
  {
   "cell_type": "code",
   "execution_count": 10,
   "metadata": {},
   "outputs": [],
   "source": [
    "data2 = data.dropna(subset=['domain'])"
   ]
  },
  {
   "cell_type": "code",
   "execution_count": 11,
   "metadata": {},
   "outputs": [],
   "source": [
    "url_counts = data2.groupby('domain')['url'].count().sort_values()\n",
    "url_counts=url_counts[url_counts>20].index\n"
   ]
  },
  {
   "cell_type": "code",
   "execution_count": 12,
   "metadata": {},
   "outputs": [],
   "source": [
    "data2=data2[data2['domain'].isin(url_counts)]"
   ]
  },
  {
   "cell_type": "code",
   "execution_count": null,
   "metadata": {},
   "outputs": [],
   "source": []
  },
  {
   "cell_type": "code",
   "execution_count": 17,
   "metadata": {},
   "outputs": [],
   "source": [
    "data2[['id','parent_id','score','link_id','author','subreddit','created_utc','domain','url']].to_csv(\"data/url_sample.csv\")"
   ]
  },
  {
   "cell_type": "code",
   "execution_count": null,
   "metadata": {},
   "outputs": [],
   "source": []
  },
  {
   "cell_type": "code",
   "execution_count": null,
   "metadata": {},
   "outputs": [],
   "source": []
  },
  {
   "cell_type": "code",
   "execution_count": 44,
   "metadata": {},
   "outputs": [],
   "source": []
  },
  {
   "cell_type": "code",
   "execution_count": null,
   "metadata": {},
   "outputs": [],
   "source": [
    "yeet = like_with_python_udf.toPandas()"
   ]
  },
  {
   "cell_type": "code",
   "execution_count": 36,
   "metadata": {},
   "outputs": [],
   "source": [
    "yeet.to_csv(\"countries_sample.csv\")"
   ]
  },
  {
   "cell_type": "code",
   "execution_count": 21,
   "metadata": {},
   "outputs": [],
   "source": [
    "x = 'Because it looked like a tricked out Grand Prix.\\n\\nhttps://en.wikipedia.org/wiki/Pontiac_Grand_Prix#Sixth_generation_(1997%E2%80%932003)'"
   ]
  },
  {
   "cell_type": "code",
   "execution_count": 25,
   "metadata": {},
   "outputs": [
    {
     "data": {
      "text/plain": [
       "61"
      ]
     },
     "execution_count": 25,
     "metadata": {},
     "output_type": "execute_result"
    }
   ],
   "source": [
    "x.find(\"wikipedia.org/wiki/\")"
   ]
  },
  {
   "cell_type": "code",
   "execution_count": 11,
   "metadata": {},
   "outputs": [],
   "source": [
    "data \n",
    "def clean_text(x):\n",
    "#     x = x.replace('(', '')\n",
    "#     x = x.replace(')', '')\n",
    "#     x = x.replace('-','')\n",
    "#     x = x.replace('\\n', ' ')\n",
    "#     x = x.replace('#','')\n",
    "    x = x.replace('\\\\','')\n",
    "    return x\n",
    "data['body_clean'] = data['body'].apply(lambda x: clean_text(x))\n",
    "data['url'] = data['body_clean'].str.extract(r\"(imgur.com/[/\\!\\@i\\%\\^\\*\\$\\:\\wa-zA-Z0-9_\\(\\-\\.]*)(?:&quot)?\")\n",
    "# data['url'] = data['body_clean'].str.extract(r\"([/\\!\\@i\\%\\^\\*\\$\\:\\wa-zA-Z0-9_\\(\\-\\.]*wikipedia.org/wiki/[/\\!\\@i\\%\\^\\*\\$\\:\\wa-zA-Z0-9_\\(\\-\\.]*)(?:&quot)?\")"
   ]
  },
  {
   "cell_type": "code",
   "execution_count": 13,
   "metadata": {},
   "outputs": [],
   "source": [
    "data['url'] = data['url'].apply(lambda x: str(x)[0:-1] if str(x)[-1] == '.' else x)\n",
    "data['url'] = data['url'].apply(lambda x: str(x)[1:] if str(x)[0] == '(' else x)"
   ]
  },
  {
   "cell_type": "code",
   "execution_count": 19,
   "metadata": {},
   "outputs": [],
   "source": [
    "data2 = data.dropna(subset=['url'])"
   ]
  },
  {
   "cell_type": "code",
   "execution_count": null,
   "metadata": {},
   "outputs": [],
   "source": []
  },
  {
   "cell_type": "code",
   "execution_count": 212,
   "metadata": {
    "scrolled": false
   },
   "outputs": [],
   "source": [
    "grouped = data.groupby('url')['url'].count().sort_values(ascending=False)\n",
    "grouped_ = grouped[grouped > 19]"
   ]
  },
  {
   "cell_type": "code",
   "execution_count": 213,
   "metadata": {},
   "outputs": [],
   "source": [
    "links = grouped_.index\n",
    "data2 = data[data['url'].isin(links)]"
   ]
  },
  {
   "cell_type": "code",
   "execution_count": 214,
   "metadata": {},
   "outputs": [
    {
     "data": {
      "text/html": [
       "<div>\n",
       "<style scoped>\n",
       "    .dataframe tbody tr th:only-of-type {\n",
       "        vertical-align: middle;\n",
       "    }\n",
       "\n",
       "    .dataframe tbody tr th {\n",
       "        vertical-align: top;\n",
       "    }\n",
       "\n",
       "    .dataframe thead th {\n",
       "        text-align: right;\n",
       "    }\n",
       "</style>\n",
       "<table border=\"1\" class=\"dataframe\">\n",
       "  <thead>\n",
       "    <tr style=\"text-align: right;\">\n",
       "      <th></th>\n",
       "      <th>id</th>\n",
       "      <th>parent_id</th>\n",
       "      <th>score</th>\n",
       "      <th>author_flair_css_class</th>\n",
       "      <th>author_flair_text</th>\n",
       "      <th>link_id</th>\n",
       "      <th>author</th>\n",
       "      <th>subreddit</th>\n",
       "      <th>body</th>\n",
       "      <th>edited</th>\n",
       "      <th>gilded</th>\n",
       "      <th>controversiality</th>\n",
       "      <th>created_utc</th>\n",
       "      <th>distinguished</th>\n",
       "      <th>body_clean</th>\n",
       "      <th>url</th>\n",
       "    </tr>\n",
       "  </thead>\n",
       "  <tbody>\n",
       "    <tr>\n",
       "      <th>0</th>\n",
       "      <td>t1_ehiksag</td>\n",
       "      <td>t1_ehhp158</td>\n",
       "      <td>1</td>\n",
       "      <td>None</td>\n",
       "      <td>None</td>\n",
       "      <td>t3_avtzct</td>\n",
       "      <td>hilti2</td>\n",
       "      <td>todayilearned</td>\n",
       "      <td>You are forgetting one important thing. Trust....</td>\n",
       "      <td>1.551402e+09</td>\n",
       "      <td>0</td>\n",
       "      <td>0</td>\n",
       "      <td>1551398403</td>\n",
       "      <td>None</td>\n",
       "      <td>You are forgetting one important thing. Trust....</td>\n",
       "      <td>https://en.wikipedia.org/wiki/EPR_(nuclear_rea...</td>\n",
       "    </tr>\n",
       "    <tr>\n",
       "      <th>3</th>\n",
       "      <td>t1_ehikty8</td>\n",
       "      <td>t1_ehike7z</td>\n",
       "      <td>28</td>\n",
       "      <td>None</td>\n",
       "      <td>None</td>\n",
       "      <td>t3_avw1qj</td>\n",
       "      <td>moldykobold</td>\n",
       "      <td>BlackPeopleTwitter</td>\n",
       "      <td>8.5%\\n\\nhttps://en.m.wikipedia.org/wiki/Privat...</td>\n",
       "      <td>NaN</td>\n",
       "      <td>0</td>\n",
       "      <td>0</td>\n",
       "      <td>1551398436</td>\n",
       "      <td>None</td>\n",
       "      <td>8.5%\\n\\nhttps://en.m.wikipedia.org/wiki/Privat...</td>\n",
       "      <td>https://en.m.wikipedia.org/wiki/Private_prison</td>\n",
       "    </tr>\n",
       "    <tr>\n",
       "      <th>4</th>\n",
       "      <td>t1_ehikvd9</td>\n",
       "      <td>t1_ehicqzv</td>\n",
       "      <td>2</td>\n",
       "      <td>None</td>\n",
       "      <td>None</td>\n",
       "      <td>t3_avs5x7</td>\n",
       "      <td>cutelyaware</td>\n",
       "      <td>politics</td>\n",
       "      <td>[Race is not a formal taxonomic rank.](https:/...</td>\n",
       "      <td>NaN</td>\n",
       "      <td>0</td>\n",
       "      <td>0</td>\n",
       "      <td>1551398465</td>\n",
       "      <td>None</td>\n",
       "      <td>[Race is not a formal taxonomic rank.](https:/...</td>\n",
       "      <td>https://en.wikipedia.org/wiki/Race_(biology</td>\n",
       "    </tr>\n",
       "    <tr>\n",
       "      <th>6</th>\n",
       "      <td>t1_ehikvxo</td>\n",
       "      <td>t3_avuqmi</td>\n",
       "      <td>6</td>\n",
       "      <td>None</td>\n",
       "      <td>None</td>\n",
       "      <td>t3_avuqmi</td>\n",
       "      <td>jim85541</td>\n",
       "      <td>atheism</td>\n",
       "      <td>Oh you need to read about the \"Red Scare\" and ...</td>\n",
       "      <td>NaN</td>\n",
       "      <td>0</td>\n",
       "      <td>0</td>\n",
       "      <td>1551398476</td>\n",
       "      <td>None</td>\n",
       "      <td>Oh you need to read about the \"Red Scare\" and ...</td>\n",
       "      <td>https://en.wikipedia.org/wiki/McCarthyism</td>\n",
       "    </tr>\n",
       "    <tr>\n",
       "      <th>9</th>\n",
       "      <td>t1_ehikwk8</td>\n",
       "      <td>t1_ehi9vcb</td>\n",
       "      <td>9</td>\n",
       "      <td>None</td>\n",
       "      <td>None</td>\n",
       "      <td>t3_avss2e</td>\n",
       "      <td>veronalady</td>\n",
       "      <td>GCdebatesQT</td>\n",
       "      <td>&gt; The author goes on about how gender doesn't ...</td>\n",
       "      <td>NaN</td>\n",
       "      <td>0</td>\n",
       "      <td>0</td>\n",
       "      <td>1551398489</td>\n",
       "      <td>None</td>\n",
       "      <td>&gt; The author goes on about how gender doesn't ...</td>\n",
       "      <td>https://en.wikipedia.org/wiki/Gender</td>\n",
       "    </tr>\n",
       "    <tr>\n",
       "      <th>...</th>\n",
       "      <td>...</td>\n",
       "      <td>...</td>\n",
       "      <td>...</td>\n",
       "      <td>...</td>\n",
       "      <td>...</td>\n",
       "      <td>...</td>\n",
       "      <td>...</td>\n",
       "      <td>...</td>\n",
       "      <td>...</td>\n",
       "      <td>...</td>\n",
       "      <td>...</td>\n",
       "      <td>...</td>\n",
       "      <td>...</td>\n",
       "      <td>...</td>\n",
       "      <td>...</td>\n",
       "      <td>...</td>\n",
       "    </tr>\n",
       "    <tr>\n",
       "      <th>2412183</th>\n",
       "      <td>t1_ehikoqq</td>\n",
       "      <td>t1_ehijci7</td>\n",
       "      <td>87</td>\n",
       "      <td>None</td>\n",
       "      <td>None</td>\n",
       "      <td>t3_avwy8q</td>\n",
       "      <td>nizo505</td>\n",
       "      <td>WTF</td>\n",
       "      <td>Yep, even blanks can kill:\\n\\nhttps://en.wikip...</td>\n",
       "      <td>NaN</td>\n",
       "      <td>0</td>\n",
       "      <td>0</td>\n",
       "      <td>1551398331</td>\n",
       "      <td>None</td>\n",
       "      <td>Yep, even blanks can kill:\\n\\nhttps://en.wikip...</td>\n",
       "      <td>https://en.wikipedia.org/wiki/Jon-Erik_Hexum</td>\n",
       "    </tr>\n",
       "    <tr>\n",
       "      <th>2412187</th>\n",
       "      <td>t1_ehikpj0</td>\n",
       "      <td>t1_ehikbn8</td>\n",
       "      <td>1</td>\n",
       "      <td>economist summers image text blue</td>\n",
       "      <td>Buttery Mayos</td>\n",
       "      <td>t3_avo3k5</td>\n",
       "      <td>Barbarossa3141</td>\n",
       "      <td>neoliberal</td>\n",
       "      <td>[You mean the period where the Palestinians we...</td>\n",
       "      <td>NaN</td>\n",
       "      <td>0</td>\n",
       "      <td>0</td>\n",
       "      <td>1551398347</td>\n",
       "      <td>None</td>\n",
       "      <td>[You mean the period where the Palestinians we...</td>\n",
       "      <td>https://en.wikipedia.org/wiki/King_David_Hotel...</td>\n",
       "    </tr>\n",
       "    <tr>\n",
       "      <th>2412189</th>\n",
       "      <td>t1_ehikpjh</td>\n",
       "      <td>t1_ehihwln</td>\n",
       "      <td>3</td>\n",
       "      <td>None</td>\n",
       "      <td>None</td>\n",
       "      <td>t3_avxgi9</td>\n",
       "      <td>potato1</td>\n",
       "      <td>politics</td>\n",
       "      <td>Super common. Nothing nefarious about it, but ...</td>\n",
       "      <td>NaN</td>\n",
       "      <td>0</td>\n",
       "      <td>0</td>\n",
       "      <td>1551398347</td>\n",
       "      <td>None</td>\n",
       "      <td>Super common. Nothing nefarious about it, but ...</td>\n",
       "      <td>https://en.wikipedia.org/wiki/Code-switching</td>\n",
       "    </tr>\n",
       "    <tr>\n",
       "      <th>2412191</th>\n",
       "      <td>t1_ehikq7m</td>\n",
       "      <td>t1_ehiixrb</td>\n",
       "      <td>0</td>\n",
       "      <td>None</td>\n",
       "      <td>None</td>\n",
       "      <td>t3_avsjh9</td>\n",
       "      <td>Molire</td>\n",
       "      <td>worldnews</td>\n",
       "      <td>Atmospheric escape —  \\nDominant atmospheric e...</td>\n",
       "      <td>NaN</td>\n",
       "      <td>0</td>\n",
       "      <td>0</td>\n",
       "      <td>1551398360</td>\n",
       "      <td>None</td>\n",
       "      <td>Atmospheric escape —  \\nDominant atmospheric e...</td>\n",
       "      <td>https://en.wikipedia.org/wiki/Atmospheric_escape</td>\n",
       "    </tr>\n",
       "    <tr>\n",
       "      <th>2412192</th>\n",
       "      <td>t1_ehikqnb</td>\n",
       "      <td>t1_ehikazx</td>\n",
       "      <td>2</td>\n",
       "      <td>None</td>\n",
       "      <td>None</td>\n",
       "      <td>t3_avx13v</td>\n",
       "      <td>sqitten</td>\n",
       "      <td>AskReddit</td>\n",
       "      <td>Peekaboo does not need a lack of object perman...</td>\n",
       "      <td>NaN</td>\n",
       "      <td>0</td>\n",
       "      <td>0</td>\n",
       "      <td>1551398369</td>\n",
       "      <td>None</td>\n",
       "      <td>Peekaboo does not need a lack of object perman...</td>\n",
       "      <td>https://en.wikipedia.org/wiki/Object_permanence</td>\n",
       "    </tr>\n",
       "  </tbody>\n",
       "</table>\n",
       "<p>974558 rows × 16 columns</p>\n",
       "</div>"
      ],
      "text/plain": [
       "                 id   parent_id  score             author_flair_css_class  \\\n",
       "0        t1_ehiksag  t1_ehhp158      1                               None   \n",
       "3        t1_ehikty8  t1_ehike7z     28                               None   \n",
       "4        t1_ehikvd9  t1_ehicqzv      2                               None   \n",
       "6        t1_ehikvxo   t3_avuqmi      6                               None   \n",
       "9        t1_ehikwk8  t1_ehi9vcb      9                               None   \n",
       "...             ...         ...    ...                                ...   \n",
       "2412183  t1_ehikoqq  t1_ehijci7     87                               None   \n",
       "2412187  t1_ehikpj0  t1_ehikbn8      1  economist summers image text blue   \n",
       "2412189  t1_ehikpjh  t1_ehihwln      3                               None   \n",
       "2412191  t1_ehikq7m  t1_ehiixrb      0                               None   \n",
       "2412192  t1_ehikqnb  t1_ehikazx      2                               None   \n",
       "\n",
       "        author_flair_text    link_id          author           subreddit  \\\n",
       "0                    None  t3_avtzct          hilti2       todayilearned   \n",
       "3                    None  t3_avw1qj     moldykobold  BlackPeopleTwitter   \n",
       "4                    None  t3_avs5x7     cutelyaware            politics   \n",
       "6                    None  t3_avuqmi        jim85541             atheism   \n",
       "9                    None  t3_avss2e      veronalady         GCdebatesQT   \n",
       "...                   ...        ...             ...                 ...   \n",
       "2412183              None  t3_avwy8q         nizo505                 WTF   \n",
       "2412187     Buttery Mayos  t3_avo3k5  Barbarossa3141          neoliberal   \n",
       "2412189              None  t3_avxgi9         potato1            politics   \n",
       "2412191              None  t3_avsjh9          Molire           worldnews   \n",
       "2412192              None  t3_avx13v         sqitten           AskReddit   \n",
       "\n",
       "                                                      body        edited  \\\n",
       "0        You are forgetting one important thing. Trust....  1.551402e+09   \n",
       "3        8.5%\\n\\nhttps://en.m.wikipedia.org/wiki/Privat...           NaN   \n",
       "4        [Race is not a formal taxonomic rank.](https:/...           NaN   \n",
       "6        Oh you need to read about the \"Red Scare\" and ...           NaN   \n",
       "9        > The author goes on about how gender doesn't ...           NaN   \n",
       "...                                                    ...           ...   \n",
       "2412183  Yep, even blanks can kill:\\n\\nhttps://en.wikip...           NaN   \n",
       "2412187  [You mean the period where the Palestinians we...           NaN   \n",
       "2412189  Super common. Nothing nefarious about it, but ...           NaN   \n",
       "2412191  Atmospheric escape —  \\nDominant atmospheric e...           NaN   \n",
       "2412192  Peekaboo does not need a lack of object perman...           NaN   \n",
       "\n",
       "        gilded  controversiality  created_utc distinguished  \\\n",
       "0            0                 0   1551398403          None   \n",
       "3            0                 0   1551398436          None   \n",
       "4            0                 0   1551398465          None   \n",
       "6            0                 0   1551398476          None   \n",
       "9            0                 0   1551398489          None   \n",
       "...        ...               ...          ...           ...   \n",
       "2412183      0                 0   1551398331          None   \n",
       "2412187      0                 0   1551398347          None   \n",
       "2412189      0                 0   1551398347          None   \n",
       "2412191      0                 0   1551398360          None   \n",
       "2412192      0                 0   1551398369          None   \n",
       "\n",
       "                                                body_clean  \\\n",
       "0        You are forgetting one important thing. Trust....   \n",
       "3        8.5%\\n\\nhttps://en.m.wikipedia.org/wiki/Privat...   \n",
       "4        [Race is not a formal taxonomic rank.](https:/...   \n",
       "6        Oh you need to read about the \"Red Scare\" and ...   \n",
       "9        > The author goes on about how gender doesn't ...   \n",
       "...                                                    ...   \n",
       "2412183  Yep, even blanks can kill:\\n\\nhttps://en.wikip...   \n",
       "2412187  [You mean the period where the Palestinians we...   \n",
       "2412189  Super common. Nothing nefarious about it, but ...   \n",
       "2412191  Atmospheric escape —  \\nDominant atmospheric e...   \n",
       "2412192  Peekaboo does not need a lack of object perman...   \n",
       "\n",
       "                                                       url  \n",
       "0        https://en.wikipedia.org/wiki/EPR_(nuclear_rea...  \n",
       "3           https://en.m.wikipedia.org/wiki/Private_prison  \n",
       "4              https://en.wikipedia.org/wiki/Race_(biology  \n",
       "6                https://en.wikipedia.org/wiki/McCarthyism  \n",
       "9                     https://en.wikipedia.org/wiki/Gender  \n",
       "...                                                    ...  \n",
       "2412183       https://en.wikipedia.org/wiki/Jon-Erik_Hexum  \n",
       "2412187  https://en.wikipedia.org/wiki/King_David_Hotel...  \n",
       "2412189       https://en.wikipedia.org/wiki/Code-switching  \n",
       "2412191   https://en.wikipedia.org/wiki/Atmospheric_escape  \n",
       "2412192    https://en.wikipedia.org/wiki/Object_permanence  \n",
       "\n",
       "[974558 rows x 16 columns]"
      ]
     },
     "execution_count": 214,
     "metadata": {},
     "output_type": "execute_result"
    }
   ],
   "source": [
    "data2"
   ]
  },
  {
   "cell_type": "code",
   "execution_count": 216,
   "metadata": {},
   "outputs": [],
   "source": [
    "data2[['id','parent_id','link_id','author','subreddit','url']].to_csv(\"data/wikipedia_posts.csv\")"
   ]
  },
  {
   "cell_type": "code",
   "execution_count": 21,
   "metadata": {},
   "outputs": [
    {
     "data": {
      "text/plain": [
       "url\n",
       "imgur.com/a/m3FI3         115302\n",
       "imgur.com/a/myIAb          79527\n",
       "imgur.com/a3i5XQ2.jpg      74154\n",
       "imgur.com/abcdefg.png      61722\n",
       "imgur.com/.                51722\n",
       "imgur.com/                 24934\n",
       "imgur.com/FIpk52f.gifv     21344\n",
       "imgur.com/kLUlm9W.png      20548\n",
       "imgur.com/RjrqakK.gifv     18775\n",
       "imgur.com/DQOlnc6.png      17430\n",
       "imgur.com/8ZpA7MZ.jpg      15479\n",
       "imgur.com/PZtQb.gif        15024\n",
       "imgur.com/9TTfq91.png      14602\n",
       "imgur.com/i3qOPay.jpg      13085\n",
       "imgur.com/a/1WL7J          12856\n",
       "imgur.com/VkFOras.png      12382\n",
       "imgur.com/a/XUPxWiF        12350\n",
       "imgur.com/q9Xjv4p          11770\n",
       "imgur.com/7Mq5iiX.gifv      9207\n",
       "imgur.com/upload            9102\n",
       "Name: subreddit, dtype: int64"
      ]
     },
     "execution_count": 21,
     "metadata": {},
     "output_type": "execute_result"
    }
   ],
   "source": [
    "data2.groupby('url')['subreddit'].count().sort_values(ascending=False).head(20)"
   ]
  },
  {
   "cell_type": "code",
   "execution_count": null,
   "metadata": {},
   "outputs": [],
   "source": []
  }
 ],
 "metadata": {
  "kernelspec": {
   "display_name": "Python 3",
   "language": "python",
   "name": "python3"
  },
  "language_info": {
   "codemirror_mode": {
    "name": "ipython",
    "version": 3
   },
   "file_extension": ".py",
   "mimetype": "text/x-python",
   "name": "python",
   "nbconvert_exporter": "python",
   "pygments_lexer": "ipython3",
   "version": "3.7.6"
  }
 },
 "nbformat": 4,
 "nbformat_minor": 4
}
