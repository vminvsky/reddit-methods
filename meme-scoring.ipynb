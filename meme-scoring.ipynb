{
 "cells": [
  {
   "cell_type": "code",
   "execution_count": 1,
   "metadata": {},
   "outputs": [],
   "source": [
    "import pandas as pd \n",
    "import numpy as np"
   ]
  },
  {
   "cell_type": "code",
   "execution_count": 4,
   "metadata": {},
   "outputs": [],
   "source": [
    "import os\n",
    "os.chdir(\"/ada/projects/venia2021\")"
   ]
  },
  {
   "cell_type": "code",
   "execution_count": 9,
   "metadata": {},
   "outputs": [],
   "source": [
    "meme_vec = pd.read_csv(\"Rick Astley-vector_f2_2.csv\")"
   ]
  },
  {
   "cell_type": "code",
   "execution_count": 11,
   "metadata": {},
   "outputs": [],
   "source": [
    "data = pd.read_csv(\"reddit_methods/data/url_sample.csv\")"
   ]
  },
  {
   "cell_type": "code",
   "execution_count": 30,
   "metadata": {},
   "outputs": [],
   "source": [
    "user_counts = data.groupby(['author','domain'])['id'].count()"
   ]
  },
  {
   "cell_type": "code",
   "execution_count": 16,
   "metadata": {},
   "outputs": [],
   "source": [
    "user_counts = user_counts[user_counts < 20].reset_index()"
   ]
  },
  {
   "cell_type": "code",
   "execution_count": 18,
   "metadata": {},
   "outputs": [],
   "source": [
    "user_counts['key'] = user_counts['author'] + '_' + user_counts['domain']"
   ]
  },
  {
   "cell_type": "code",
   "execution_count": 24,
   "metadata": {},
   "outputs": [],
   "source": [
    "user_counts['count'] = user_counts['id']"
   ]
  },
  {
   "cell_type": "code",
   "execution_count": 20,
   "metadata": {},
   "outputs": [],
   "source": [
    "data['key'] = data['author'] + '_' + data['domain']"
   ]
  },
  {
   "cell_type": "code",
   "execution_count": 26,
   "metadata": {},
   "outputs": [],
   "source": [
    "data2 = pd.merge(user_counts[['key','count']], data, on ='key')"
   ]
  },
  {
   "cell_type": "code",
   "execution_count": 53,
   "metadata": {},
   "outputs": [],
   "source": [
    "metadata = pd.read_csv(\"data/reddit-master-metadata.tsv\", sep='\\t', )\n",
    "vecs = pd.read_csv(\"data/reddit-master-vectors.tsv\", sep ='\\t', names =list(np.arange(150)))\n",
    "\n",
    "reddit_embedding = pd.merge(metadata['community'],vecs,left_index=True,right_index=True)"
   ]
  },
  {
   "cell_type": "code",
   "execution_count": 57,
   "metadata": {},
   "outputs": [],
   "source": [
    "reddit_embedding['subreddit'] = reddit_embedding['community'] \n",
    "reddit_embedding.drop('community',axis=1,inplace=True)"
   ]
  },
  {
   "cell_type": "code",
   "execution_count": null,
   "metadata": {},
   "outputs": [],
   "source": []
  },
  {
   "cell_type": "code",
   "execution_count": 89,
   "metadata": {},
   "outputs": [],
   "source": [
    "entity_sub = data2.groupby(['domain','subreddit'])['id'].count().reset_index()\n",
    "entity_counts = data2.groupby('domain')['id'].count()\n",
    "entity_counts = entity_counts[entity_counts> 100].reset_index()\n",
    "\n",
    "entity_sub = pd.merge(entity_sub, reddit_embedding, on='subreddit')\n",
    "entity_sub['count'] = entity_sub['id']\n",
    "entity_sub.drop(['id'], axis=1,inplace=True)\n",
    "entity_sub_count = pd.merge(entity_sub, entity_counts, on = 'domain')\n",
    "\n",
    "for i in range(150):\n",
    "    entity_sub_count[i] = entity_sub_count[i] * entity_sub_count['count'] / entity_sub_count['id']\n",
    "    \n",
    "entity_embedding = entity_sub_count.groupby('domain')[np.arange(150)].sum()\n",
    "\n",
    "temp  =entity_embedding[entity_embedding.index.isin(data2.groupby('domain')['id'].count().sort_values(ascending=False).head(50).index)]\n",
    "\n",
    "entity_embedding['sum'] = (entity_embedding[np.arange(150)] * entity_embedding[np.arange(150)]).sum(axis=1) ** .5\n",
    "\n",
    "for i in range(150):\n",
    "    entity_embedding[i] = entity_embedding[i] / entity_embedding['sum']\n",
    "entity_embedding.drop('sum',axis=1,inplace=True)"
   ]
  },
  {
   "cell_type": "code",
   "execution_count": 90,
   "metadata": {},
   "outputs": [],
   "source": [
    "from sklearn.metrics import pairwise\n",
    "\n",
    "sim = pairwise.cosine_similarity(entity_embedding.values, meme_vec.T.values)"
   ]
  },
  {
   "cell_type": "code",
   "execution_count": 91,
   "metadata": {},
   "outputs": [],
   "source": [
    "sim_df = pd.DataFrame(sim, index = entity_embedding.index, columns = ['cos_sim']).sort_values(by='cos_sim', ascending=False)"
   ]
  },
  {
   "cell_type": "code",
   "execution_count": 92,
   "metadata": {},
   "outputs": [
    {
     "data": {
      "text/html": [
       "<div>\n",
       "<style scoped>\n",
       "    .dataframe tbody tr th:only-of-type {\n",
       "        vertical-align: middle;\n",
       "    }\n",
       "\n",
       "    .dataframe tbody tr th {\n",
       "        vertical-align: top;\n",
       "    }\n",
       "\n",
       "    .dataframe thead th {\n",
       "        text-align: right;\n",
       "    }\n",
       "</style>\n",
       "<table border=\"1\" class=\"dataframe\">\n",
       "  <thead>\n",
       "    <tr style=\"text-align: right;\">\n",
       "      <th></th>\n",
       "      <th>cos_sim</th>\n",
       "    </tr>\n",
       "    <tr>\n",
       "      <th>domain</th>\n",
       "      <th></th>\n",
       "    </tr>\n",
       "  </thead>\n",
       "  <tbody>\n",
       "    <tr>\n",
       "      <th>nola.com</th>\n",
       "      <td>-0.274949</td>\n",
       "    </tr>\n",
       "    <tr>\n",
       "      <th>lulus.com</th>\n",
       "      <td>-0.275201</td>\n",
       "    </tr>\n",
       "    <tr>\n",
       "      <th>native-instruments.com</th>\n",
       "      <td>-0.275686</td>\n",
       "    </tr>\n",
       "    <tr>\n",
       "      <th>thescore.com</th>\n",
       "      <td>-0.275854</td>\n",
       "    </tr>\n",
       "    <tr>\n",
       "      <th>jacobinmag.com</th>\n",
       "      <td>-0.276997</td>\n",
       "    </tr>\n",
       "    <tr>\n",
       "      <th>redfin.com</th>\n",
       "      <td>-0.277389</td>\n",
       "    </tr>\n",
       "    <tr>\n",
       "      <th>drmartens.com</th>\n",
       "      <td>-0.279082</td>\n",
       "    </tr>\n",
       "    <tr>\n",
       "      <th>fragrantica.com</th>\n",
       "      <td>-0.279833</td>\n",
       "    </tr>\n",
       "    <tr>\n",
       "      <th>llbean.com</th>\n",
       "      <td>-0.280098</td>\n",
       "    </tr>\n",
       "    <tr>\n",
       "      <th>alltrails.com</th>\n",
       "      <td>-0.281560</td>\n",
       "    </tr>\n",
       "    <tr>\n",
       "      <th>spin.com</th>\n",
       "      <td>-0.282769</td>\n",
       "    </tr>\n",
       "    <tr>\n",
       "      <th>apartments.com</th>\n",
       "      <td>-0.286053</td>\n",
       "    </tr>\n",
       "    <tr>\n",
       "      <th>allmusic.com</th>\n",
       "      <td>-0.286664</td>\n",
       "    </tr>\n",
       "    <tr>\n",
       "      <th>sweetwater.com</th>\n",
       "      <td>-0.287720</td>\n",
       "    </tr>\n",
       "    <tr>\n",
       "      <th>metal-archives.com</th>\n",
       "      <td>-0.288613</td>\n",
       "    </tr>\n",
       "    <tr>\n",
       "      <th>lionsroar.com</th>\n",
       "      <td>-0.290230</td>\n",
       "    </tr>\n",
       "    <tr>\n",
       "      <th>groupon.com</th>\n",
       "      <td>-0.290879</td>\n",
       "    </tr>\n",
       "    <tr>\n",
       "      <th>levi.com</th>\n",
       "      <td>-0.291364</td>\n",
       "    </tr>\n",
       "    <tr>\n",
       "      <th>trulia.com</th>\n",
       "      <td>-0.291683</td>\n",
       "    </tr>\n",
       "    <tr>\n",
       "      <th>richmond.com</th>\n",
       "      <td>-0.293195</td>\n",
       "    </tr>\n",
       "    <tr>\n",
       "      <th>nordstromrack.com</th>\n",
       "      <td>-0.293473</td>\n",
       "    </tr>\n",
       "    <tr>\n",
       "      <th>meetup.com</th>\n",
       "      <td>-0.295228</td>\n",
       "    </tr>\n",
       "    <tr>\n",
       "      <th>mixcloud.com</th>\n",
       "      <td>-0.297944</td>\n",
       "    </tr>\n",
       "    <tr>\n",
       "      <th>aritzia.com</th>\n",
       "      <td>-0.298103</td>\n",
       "    </tr>\n",
       "    <tr>\n",
       "      <th>ae.com</th>\n",
       "      <td>-0.300383</td>\n",
       "    </tr>\n",
       "    <tr>\n",
       "      <th>modcloth.com</th>\n",
       "      <td>-0.300527</td>\n",
       "    </tr>\n",
       "    <tr>\n",
       "      <th>criterion.com</th>\n",
       "      <td>-0.300727</td>\n",
       "    </tr>\n",
       "    <tr>\n",
       "      <th>bizjournals.com</th>\n",
       "      <td>-0.300777</td>\n",
       "    </tr>\n",
       "    <tr>\n",
       "      <th>madewell.com</th>\n",
       "      <td>-0.301555</td>\n",
       "    </tr>\n",
       "    <tr>\n",
       "      <th>dsw.com</th>\n",
       "      <td>-0.302932</td>\n",
       "    </tr>\n",
       "    <tr>\n",
       "      <th>zappos.com</th>\n",
       "      <td>-0.303057</td>\n",
       "    </tr>\n",
       "    <tr>\n",
       "      <th>gap.com</th>\n",
       "      <td>-0.304581</td>\n",
       "    </tr>\n",
       "    <tr>\n",
       "      <th>gearslutz.com</th>\n",
       "      <td>-0.309281</td>\n",
       "    </tr>\n",
       "    <tr>\n",
       "      <th>everlane.com</th>\n",
       "      <td>-0.311255</td>\n",
       "    </tr>\n",
       "    <tr>\n",
       "      <th>soundonsound.com</th>\n",
       "      <td>-0.314281</td>\n",
       "    </tr>\n",
       "    <tr>\n",
       "      <th>stubhub.com</th>\n",
       "      <td>-0.314884</td>\n",
       "    </tr>\n",
       "    <tr>\n",
       "      <th>stereogum.com</th>\n",
       "      <td>-0.315932</td>\n",
       "    </tr>\n",
       "    <tr>\n",
       "      <th>eventbrite.com</th>\n",
       "      <td>-0.321867</td>\n",
       "    </tr>\n",
       "    <tr>\n",
       "      <th>yelp.com</th>\n",
       "      <td>-0.325162</td>\n",
       "    </tr>\n",
       "    <tr>\n",
       "      <th>discogs.com</th>\n",
       "      <td>-0.355730</td>\n",
       "    </tr>\n",
       "  </tbody>\n",
       "</table>\n",
       "</div>"
      ],
      "text/plain": [
       "                         cos_sim\n",
       "domain                          \n",
       "nola.com               -0.274949\n",
       "lulus.com              -0.275201\n",
       "native-instruments.com -0.275686\n",
       "thescore.com           -0.275854\n",
       "jacobinmag.com         -0.276997\n",
       "redfin.com             -0.277389\n",
       "drmartens.com          -0.279082\n",
       "fragrantica.com        -0.279833\n",
       "llbean.com             -0.280098\n",
       "alltrails.com          -0.281560\n",
       "spin.com               -0.282769\n",
       "apartments.com         -0.286053\n",
       "allmusic.com           -0.286664\n",
       "sweetwater.com         -0.287720\n",
       "metal-archives.com     -0.288613\n",
       "lionsroar.com          -0.290230\n",
       "groupon.com            -0.290879\n",
       "levi.com               -0.291364\n",
       "trulia.com             -0.291683\n",
       "richmond.com           -0.293195\n",
       "nordstromrack.com      -0.293473\n",
       "meetup.com             -0.295228\n",
       "mixcloud.com           -0.297944\n",
       "aritzia.com            -0.298103\n",
       "ae.com                 -0.300383\n",
       "modcloth.com           -0.300527\n",
       "criterion.com          -0.300727\n",
       "bizjournals.com        -0.300777\n",
       "madewell.com           -0.301555\n",
       "dsw.com                -0.302932\n",
       "zappos.com             -0.303057\n",
       "gap.com                -0.304581\n",
       "gearslutz.com          -0.309281\n",
       "everlane.com           -0.311255\n",
       "soundonsound.com       -0.314281\n",
       "stubhub.com            -0.314884\n",
       "stereogum.com          -0.315932\n",
       "eventbrite.com         -0.321867\n",
       "yelp.com               -0.325162\n",
       "discogs.com            -0.355730"
      ]
     },
     "execution_count": 92,
     "metadata": {},
     "output_type": "execute_result"
    }
   ],
   "source": [
    "sim_df.tail(40)"
   ]
  },
  {
   "cell_type": "code",
   "execution_count": null,
   "metadata": {},
   "outputs": [],
   "source": []
  }
 ],
 "metadata": {
  "kernelspec": {
   "display_name": "Python 3",
   "language": "python",
   "name": "python3"
  },
  "language_info": {
   "codemirror_mode": {
    "name": "ipython",
    "version": 3
   },
   "file_extension": ".py",
   "mimetype": "text/x-python",
   "name": "python",
   "nbconvert_exporter": "python",
   "pygments_lexer": "ipython3",
   "version": "3.7.6"
  }
 },
 "nbformat": 4,
 "nbformat_minor": 4
}
