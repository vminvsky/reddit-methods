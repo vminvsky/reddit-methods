{
 "cells": [
  {
   "cell_type": "code",
   "execution_count": 3,
   "metadata": {},
   "outputs": [],
   "source": [
    "import pandas as pd\n",
    "import numpy as np \n",
    "\n",
    "from pyspark.sql import SparkSession\n",
    "from pyspark import SparkContext\n",
    "\n",
    "from pyspark.ml.feature import Tokenizer, StopWordsRemover, RegexTokenizer\n",
    "\n",
    "from sklearn.feature_extraction.text import CountVectorizer\n",
    "\n",
    "spark = SparkSession.builder.config(\"spark.driver.memory\", \"300g\").config(\"spark.driver.maxResultSize\", '0').config(\"spark.executor.memory\", \"300g\").config('spark.sql.autoBroadcastJoinThreshold', '-1').getOrCreate()\n",
    "\n",
    "# spark = SparkSession.builder.config(\"spark.driver.memory\", \"150g\").config(\"spark.driver.maxResultSize\", '0').config(\"spark.executor.memory\", \"150g\").config('spark.sql.autoBroadcastJoinThreshold', '-1').getOrCreate()\n",
    "# df = spark.read.load(\"/comments_2019.parquet\")\n",
    "df = spark.read.load(\"/ada/data/reddit/parquet/top_10k_words.parquet\")\n",
    "df.createOrReplaceTempView(\"words\")\n",
    "\n"
   ]
  },
  {
   "cell_type": "code",
   "execution_count": 5,
   "metadata": {},
   "outputs": [],
   "source": [
    "words = df.toPandas()"
   ]
  },
  {
   "cell_type": "code",
   "execution_count": 7,
   "metadata": {},
   "outputs": [],
   "source": [
    "words.to_csv('/u/venia/data/words_cultural.csv')"
   ]
  },
  {
   "cell_type": "code",
   "execution_count": null,
   "metadata": {},
   "outputs": [],
   "source": []
  }
 ],
 "metadata": {
  "kernelspec": {
   "display_name": "Python 3",
   "language": "python",
   "name": "python3"
  },
  "language_info": {
   "codemirror_mode": {
    "name": "ipython",
    "version": 3
   },
   "file_extension": ".py",
   "mimetype": "text/x-python",
   "name": "python",
   "nbconvert_exporter": "python",
   "pygments_lexer": "ipython3",
   "version": "3.7.6"
  }
 },
 "nbformat": 4,
 "nbformat_minor": 4
}
